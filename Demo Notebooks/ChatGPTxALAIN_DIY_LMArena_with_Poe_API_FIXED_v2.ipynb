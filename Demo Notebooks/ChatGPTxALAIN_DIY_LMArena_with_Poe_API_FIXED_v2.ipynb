{
  "nbformat": 4,
  "nbformat_minor": 5,
  "metadata": {
    "kernelspec": {
      "name": "python3",
      "display_name": "Python 3"
    },
    "language_info": {
      "name": "python",
      "version": "3.x"
    },
    "alain": {
      "title": "ALAIN‑Kit: DIY LM Arena on Poe — Tutorial Notebook",
      "generated_at": "2025-09-19 21:50:25 CDT",
      "provider": "Poe",
      "default_teacher": "GPT-OSS-20B",
      "model_roster": [
        "GPT-5",
        "Claude-Sonnet-4",
        "Grok-4",
        "Gemini-2.5-Pro",
        "Llama-3.1-405B",
        "Mixtral-8x22B",
        "GPT-OSS-20B"
      ]
    }
  },
  "cells": [
    {
      "cell_type": "markdown",
      "metadata": {},
      "source": "# ALAIN‑Kit: DIY LM Arena on Poe — Tutorial Notebook\n\n**Provider**: Poe\n\n**Default teacher**: GPT-OSS-20B\n\n**Model roster**: GPT-5, Claude-Sonnet-4, Grok-4, Gemini-2.5-Pro, Llama-3.1-405B, Mixtral-8x22B, GPT-OSS-20B\n\n**Generated at**: 2025-09-19 21:50:25 CDT\n\nPurpose: Build a Next.js App Router arena that compares two Poe models side by side, streams outputs, records a vote, updates ratings, and logs telemetry.\n\n**Read me**: This notebook includes runnable setup checks and copy-ready TypeScript blocks you can paste into your Next.js project."
    },
    {
      "cell_type": "markdown",
      "metadata": {},
      "source": "## Environment guidance\nUse secrets. Do not hardcode API keys.\n\n- Local app: put keys in `.env.local` and add `.env*` to `.gitignore`.\n- Colab: store secrets with the Secrets UI. Avoid printing keys.\n\nThe cells below install the minimal Python deps for smoke checks and set the Poe base URL for OpenAI-compatible calls.\n"
    },
    {
      "cell_type": "code",
      "metadata": {
        "tags": [
          "setup"
        ]
      },
      "execution_count": null,
      "outputs": [],
      "source": "!pip -q install \"openai>=4.57.0\" \"ipywidgets>=8.0.0\"\n%env OPENAI_BASE_URL=https://api.poe.com/v1\n# Set OPENAI_API_KEY through Colab/Notebook secrets UI, not here.\n# Example (do not run in shared environments):\n# %env OPENAI_API_KEY=YOUR_POE_API_KEY"
    },
    {
      "cell_type": "markdown",
      "metadata": {},
      "source": "## Node dependencies for your Next.js app\nRun in your project root:\n```bash\nnpm install openai zustand d3\n# Optional UI libs: tailwindcss @tanstack/react-query recharts framer-motion lucide-react clsx\n```\n"
    },
    {
      "cell_type": "markdown",
      "metadata": {},
      "source": "# 1. Scaffold overview\nYou will create:\n\n- Poe client via OpenAI SDK with baseURL override\n- Model guard and defaults from env\n- Telemetry types\n- Health and smoke API routes\n- Starter page\n\nPaste the TypeScript files below into your Next.js project (App Router).\n"
    },
    {
      "cell_type": "markdown",
      "metadata": {},
      "source": "## Background primer: Server-Sent Events\n- SSE frames use `event:` and `data:` lines separated by a blank line.\n- Browser `EventSource` streams GET only; use POST+NDJSON via fetch for large prompts.\n- Ensure server writes actual newlines `\\n` characters, not the two-character sequence `\\` + `n`.\n"
    },
    {
      "cell_type": "markdown",
      "metadata": {},
      "source": "## Background primer: Elo\n- Expected score: `1 / (1 + 10^((Rb - Ra)/400))`\n- Update: `new = old + K * (S - E)` with S in {1, 0.5, 0}\n- Use K=24 for a balanced feel in small demos; treat Both bad as no change.\n"
    },
    {
      "cell_type": "markdown",
      "metadata": {},
      "source": "**Checkpoint 1**\n- Visit `/api/health`\n- Run the Home page smoke test\n- Verify JSON response includes `usage`"
    },
    {
      "cell_type": "markdown",
      "metadata": {},
      "source": "### lib/poe.ts\n```ts\nimport OpenAI from \"openai\";\n\nexport const poe = new OpenAI({\n  apiKey: process.env.POE_API_KEY!,\n  baseURL: \"https://api.poe.com/v1\",\n});\n\nexport type ChatMessage = { role: \"system\" | \"user\" | \"assistant\"; content: string };\n\nexport async function chatOnce(model: string, messages: ChatMessage[]) {\n  const res = await poe.chat.completions.create({ model, messages, stream: false, max_tokens: 512 });\n  const choice = res.choices?.[0];\n  return {\n    text: choice?.message?.content ?? \"\",\n    usage: res.usage,\n    id: res.id,\n    model: res.model,\n  };\n}\n```\n"
    },
    {
      "cell_type": "markdown",
      "metadata": {},
      "source": "### lib/models.ts\n```ts\nconst DEFAULTS = [\n  \"GPT-5\",\n  \"Claude-Sonnet-4\",\n  \"Grok-4\",\n  \"Gemini-2.5-Pro\",\n  \"Llama-3.1-405B\",\n  \"Mixtral-8x22B\",\n  \"GPT-OSS-20B\",\n] as const;\n\nexport const COMPARISON_MODELS: readonly string[] = (process.env.NEXT_PUBLIC_POE_COMPARISON_MODELS?.split(\",\")\n  .map(s => s.trim())\n  .filter(Boolean) || DEFAULTS) as readonly string[];\n\nexport type PoeModel = typeof DEFAULTS[number] | (string & {});\n\nexport function isAllowedModel(m: string): m is PoeModel {\n  return COMPARISON_MODELS.includes(m);\n}\n\nexport const DEFAULT_MODEL: PoeModel = (process.env.NEXT_PUBLIC_POE_DEFAULT_MODEL || \"GPT-OSS-20B\") as PoeModel;\n```\n"
    },
    {
      "cell_type": "markdown",
      "metadata": {},
      "source": "### lib/types.ts\n```ts\nexport type Telemetry = {\n  promptHash: string;\n  leftModel: string;\n  rightModel: string;\n  params: { temperature: number; top_p: number; max_tokens: number };\n  left: { ttfbMs: number | null; totalMs: number | null; promptTokens?: number; completionTokens?: number; error?: string };\n  right:{ ttfbMs: number | null; totalMs: number | null; promptTokens?: number; completionTokens?: number; error?: string };\n};\n\nexport type VoteOutcome = \"LEFT\" | \"RIGHT\" | \"TIE\" | \"BOTH_BAD\";\n\nexport type DuelRecord = Telemetry & {\n  vote: VoteOutcome | null;\n  voterNote?: string;\n  createdAt: string;\n};\n```\n"
    },
    {
      "cell_type": "markdown",
      "metadata": {},
      "source": "### app/api/health/route.ts\n```ts\nimport { NextResponse } from \"next/server\";\nimport { COMPARISON_MODELS, DEFAULT_MODEL } from \"@/lib/models\";\n\nexport async function GET() {\n  const ok = Boolean(process.env.POE_API_KEY);\n  return NextResponse.json({ ok, hasKey: ok, defaultModel: DEFAULT_MODEL, models: COMPARISON_MODELS });\n}\n```\n"
    },
    {
      "cell_type": "markdown",
      "metadata": {},
      "source": "### app/api/smoke/route.ts\n```ts\nimport { NextResponse } from \"next/server\";\nimport { poe } from \"@/lib/poe\";\nimport { isAllowedModel, DEFAULT_MODEL } from \"@/lib/models\";\n\nexport async function POST(req: Request) {\n  const { model = DEFAULT_MODEL, content = \"Say 'pong'\" } = await req.json().catch(() => ({}));\n  if (!isAllowedModel(model)) return NextResponse.json({ error: \"Unknown model\" }, { status: 400 });\n  try {\n    const res = await poe.chat.completions.create({\n      model,\n      messages: [{ role: \"user\", content }],\n      max_tokens: 32,\n      stream: false,\n      temperature: 0,\n    });\n    return NextResponse.json({ id: res.id, model: res.model, text: res.choices?.[0]?.message?.content ?? \"\", usage: res.usage });\n  } catch (e: any) {\n    return NextResponse.json({ error: e?.message || \"request_failed\" }, { status: 500 });\n  }\n}\n```\n"
    },
    {
      "cell_type": "markdown",
      "metadata": {},
      "source": "### app/page.tsx\n```tsx\n\"use client\";\nimport { useEffect, useState } from \"react\";\n\nexport default function Home() {\n  const [health, setHealth] = useState<any>(null);\n  const [loading, setLoading] = useState(false);\n  const [output, setOutput] = useState(\"\");\n\n  useEffect(() => { fetch(\"/api/health\").then(r => r.json()).then(setHealth); }, []);\n\n  async function runSmoke() {\n    setLoading(true);\n    setOutput(\"\");\n    const r = await fetch(\"/api/smoke\", { method: \"POST\", body: JSON.stringify({ content: \"pong?\" }) });\n    const json = await r.json();\n    setOutput(JSON.stringify(json, null, 2));\n    setLoading(false);\n  }\n\n  return (\n    <main className=\"mx-auto max-w-2xl p-6 space-y-4\">\n      <h1 className=\"text-2xl font-semibold\">ALAIN Kit • Poe Scaffold</h1>\n      <pre className=\"rounded bg-gray-100 p-3 text-sm overflow-auto\">{JSON.stringify(health, null, 2)}</pre>\n      <button onClick={runSmoke} disabled={loading} className=\"rounded px-4 py-2 bg-black text-white\">\n        {loading ? \"Running...\" : \"Run smoke test\"}\n      </button>\n      {output && <pre className=\"rounded bg-gray-100 p-3 text-sm overflow-auto\">{output}</pre>}\n    </main>\n  );\n}\n```\n"
    },
    {
      "cell_type": "markdown",
      "metadata": {},
      "source": "# 2. Duel streaming, selector, and voting\n\nYou will add a server-sent events API to stream two Poe models and a UI with hidden identities and voting.\n"
    },
    {
      "cell_type": "markdown",
      "metadata": {},
      "source": "**Checkpoint 2**\n- Open `/arena` and start a duel\n- Confirm both panes stream and Telemetry appears after `done`\n- Vote once and see identities reveal"
    },
    {
      "cell_type": "markdown",
      "metadata": {},
      "source": "### app/api/duel/route.ts\n```ts\nimport { NextRequest } from \"next/server\";\nimport { poe } from \"@/lib/poe\";\nimport { isAllowedModel } from \"@/lib/models\";\nimport crypto from \"crypto\";\n\nexport const runtime = \"nodejs\";\n\ntype SummarySide = {\n  ttfbMs: number | null;\n  totalMs: number | null;\n  usage?: { prompt_tokens?: number; completion_tokens?: number };\n  error?: string;\n};\n\ntype Summary = {\n  promptHash: string;\n  params: { temperature: number; top_p: number; max_tokens: number };\n  left: SummarySide;\n  right: SummarySide;\n};\n\nfunction sseHeaders() {\n  return {\n    \"Content-Type\": \"text/event-stream; charset=utf-8\",\n    \"Cache-Control\": \"no-cache, no-transform\",\n    Connection: \"keep-alive\",\n    \"X-Accel-Buffering\": \"no\",\n  } as Record<string, string>;\n}\n\nfunction writeEvent(writer: WritableStreamDefaultWriter<Uint8Array>, name: string, data: unknown) {\n  const enc = new TextEncoder();\n  const payload = `event: ${name}\ndata: ${JSON.stringify(data)}\n\n`;\n  return writer.write(enc.encode(payload));\n}\n\nexport async function GET(req: NextRequest) {\n  const url = new URL(req.url);\n  const left = url.searchParams.get(\"left\") || \"\";\n  const right = url.searchParams.get(\"right\") || \"\";\n  const promptRaw = url.searchParams.get(\"prompt\") || \"\";\n  const temperature = Number(url.searchParams.get(\"temperature\") ?? 0.2);\n  const top_p = Number(url.searchParams.get(\"top_p\") ?? 1);\n  const max_tokens = Number(url.searchParams.get(\"max_tokens\") ?? 512);\n\n  if (!isAllowedModel(left) || !isAllowedModel(right)) return new Response(\"Unknown model\", { status: 400 });\n\n  const prompt = decodeURIComponent(promptRaw);\n  const promptHash = crypto.createHash(\"sha256\").update(prompt).digest(\"hex\").slice(0, 16);\n  const messages = [{ role: \"user\" as const, content: prompt }];\n\n  const { readable, writable } = new TransformStream<Uint8Array, Uint8Array>();\n  const writer = writable.getWriter();\n\n  const summary: Summary = {\n    promptHash,\n    params: { temperature, top_p, max_tokens },\n    left: { ttfbMs: null, totalMs: null },\n    right: { ttfbMs: null, totalMs: null },\n  };\n\n  let closed = false;\n  const safeClose = () => { if (!closed) { closed = true; try { writer.close(); } catch {} } };\n\n  async function runSide(side: \"left\" | \"right\", model: string) {\n    const start = Date.now();\n    let firstTokenAt: number | null = null;\n    let lastChunk = Date.now();\n    const softTimeoutMs = 60000;\n\n    try {\n      const stream: any = await poe.chat.completions.create({\n        model,\n        messages,\n        temperature,\n        top_p,\n        max_tokens,\n        stream: true,\n      });\n\n      for await (const part of stream) {\n        const delta = part?.choices?.[0]?.delta?.content ?? \"\";\n        if (delta) {\n          lastChunk = Date.now();\n          if (firstTokenAt === null) firstTokenAt = lastChunk;\n          await writeEvent(writer, \"chunk\", { side, delta });\n        }\n        if (Date.now() - lastChunk > softTimeoutMs) {\n          summary[side] = { ...summary[side], error: \"soft_timeout\" };\n          break;\n        }\n      }\n\n      let usage: any = undefined;\n      try { const final = await stream.finalChatCompletion?.(); usage = final?.usage; } catch {}\n\n      const totalMs = Date.now() - start;\n      const ttfbMs = firstTokenAt ? firstTokenAt - start : null;\n      summary[side] = { ...summary[side], ttfbMs, totalMs, usage };\n    } catch (e: any) {\n      const totalMs = Date.now() - start;\n      summary[side] = { ...summary[side], ttfbMs: null, totalMs, error: String(e?.message || e) };\n      await writeEvent(writer, \"error\", { side, message: String(e?.message || e) });\n    }\n  }\n\n  (async () => {\n    try {\n      await Promise.all([runSide(\"left\", left), runSide(\"right\", right)]);\n      await writeEvent(writer, \"done\", summary);\n    } catch (e: any) {\n      await writeEvent(writer, \"error\", { message: String(e?.message || e) });\n    } finally {\n      safeClose();\n    }\n  })();\n\n  req.signal.addEventListener(\"abort\", safeClose);\n  return new Response(readable, { headers: sseHeaders() });\n}\n```\n"
    },
    {
      "cell_type": "markdown",
      "metadata": {},
      "source": "### lib/elo.ts\n```ts\nexport type Outcome = \"LEFT\" | \"RIGHT\" | \"TIE\" | \"BOTH_BAD\";\n\nexport function expectedScore(ra: number, rb: number) {\n  return 1 / (1 + Math.pow(10, (rb - ra) / 400));\n}\n\nexport function updateElo(ra: number, rb: number, outcome: Outcome, K = 24) {\n  if (outcome === \"BOTH_BAD\") return [ra, rb] as const;\n  const ea = expectedScore(ra, rb);\n  const sa = outcome === \"LEFT\" ? 1 : outcome === \"RIGHT\" ? 0 : 0.5;\n  const sb = 1 - sa;\n  const na = ra + K * (sa - ea);\n  const nb = rb + K * (sb - (1 - ea));\n  return [Math.round(na), Math.round(nb)] as const;\n}\n\nexport function recomputeElo(\n  pairs: { left: string; right: string; outcome: Outcome }[],\n  initial: Record<string, number> = {},\n  K = 24\n) {\n  const ratings: Record<string, number> = { ...initial };\n  for (const p of pairs) {\n    if (!(p.left in ratings)) ratings[p.left] = 1500;\n    if (!(p.right in ratings)) ratings[p.right] = 1500;\n    const [na, nb] = updateElo(ratings[p.left], ratings[p.right], p.outcome, K);\n    ratings[p.left] = na;\n    ratings[p.right] = nb;\n  }\n  return ratings;\n}\n```\n"
    },
    {
      "cell_type": "markdown",
      "metadata": {},
      "source": "### lib/store.ts (Zustand client)\n```ts\n\"use client\";\nimport { create } from \"zustand\";\nimport { updateElo, Outcome } from \"./elo\";\n\nexport type DuelSummary = {\n  promptHash: string;\n  leftModel: string;\n  rightModel: string;\n  left: { ttfbMs: number | null; totalMs: number | null; completionTokens?: number; promptTokens?: number };\n  right:{ ttfbMs: number | null; totalMs: number | null; completionTokens?: number; promptTokens?: number };\n};\n\ntype RatingsState = {\n  ratings: Record<string, number>;\n  history: { summary: DuelSummary; outcome: Outcome; at: string }[];\n  ensure(model: string): void;\n  record(outcome: Outcome, leftModel: string, rightModel: string, summary: DuelSummary): void;\n  reset(): void;\n};\n\nexport const useRatings = create<RatingsState>((set, get) => ({\n  ratings: {},\n  history: [],\n  ensure(model: string) {\n    const ratings = { ...get().ratings };\n    if (!(model in ratings)) ratings[model] = 1500;\n    set({ ratings });\n  },\n  record(outcome, leftModel, rightModel, summary) {\n    const ratings = { ...get().ratings };\n    if (!(leftModel in ratings)) ratings[leftModel] = 1500;\n    if (!(rightModel in ratings)) ratings[rightModel] = 1500;\n    const [na, nb] = updateElo(ratings[leftModel], ratings[rightModel], outcome);\n    ratings[leftModel] = na;\n    ratings[rightModel] = nb;\n    const history = [{ summary, outcome, at: new Date().toISOString() }, ...get().history].slice(0, 50);\n    set({ ratings, history });\n  },\n  reset() { set({ ratings: {}, history: [] }); },\n}));\n```\n"
    },
    {
      "cell_type": "markdown",
      "metadata": {},
      "source": "### app/arena/page.tsx (fixed)\n```tsx\n\"use client\";\nimport { useEffect, useMemo, useRef, useState } from \"react\";\nimport { COMPARISON_MODELS } from \"@/lib/models\";\nimport { useRatings } from \"@/lib/store\";\n\ntype SSEDone = {\n  promptHash: string;\n  params: { temperature: number; top_p: number; max_tokens: number };\n  left: { ttfbMs: number | null; totalMs: number | null; usage?: { prompt_tokens?: number; completion_tokens?: number }; error?: string };\n  right:{ ttfbMs: number | null; totalMs: number | null; usage?: { prompt_tokens?: number; completion_tokens?: number }; error?: string };\n};\n\nfunction Pane({ title, text }: { title: string; text: string }) {\n  return (\n    <div className=\"flex-1 rounded border p-3 min-h-[200px]\">\n      <div className=\"text-xs uppercase tracking-wide text-gray-500 mb-2\">{title}</div>\n      <div className=\"whitespace-pre-wrap text-sm leading-6\">{text || \"\"}</div>\n    </div>\n  );\n}\n\nexport default function ArenaPage() {\n  const models = COMPARISON_MODELS as string[];\n  const [leftModel, setLeftModel] = useState(models[0] || \"GPT-OSS-20B\");\n  const [rightModel, setRightModel] = useState(models[1] || models[0] || \"GPT-5\");\n  const [prompt, setPrompt] = useState(\"Write a concise explanation of HTTP/1.1 vs HTTP/2.\");\n  const [temperature, setTemperature] = useState(0.2);\n  const [topP, setTopP] = useState(1);\n  const [maxTokens, setMaxTokens] = useState(512);\n  const [leftText, setLeftText] = useState(\"\");\n  const [rightText, setRightText] = useState(\"\");\n  const [streaming, setStreaming] = useState(false);\n  const [masked, setMasked] = useState(true);\n  const [summary, setSummary] = useState<SSEDone | null>(null);\n  const esRef = useRef<EventSource | null>(null);\n  const ratings = useRatings(s => s.ratings);\n  const ensure = useRatings(s => s.ensure);\n  const record = useRatings(s => s.record);\n\n  useEffect(() => { ensure(leftModel); ensure(rightModel); }, [leftModel, rightModel, ensure]);\n  useEffect(() => () => { esRef.current?.close?.(); }, []);\n\n  const maskedTitles = useMemo(() => ({\n    left: masked ? \"Model A\" : leftModel,\n    right: masked ? \"Model B\" : rightModel,\n  }), [masked, leftModel, rightModel]);\n\n  function stopStream() {\n    esRef.current?.close?.();\n    esRef.current = null;\n    setStreaming(false);\n  }\n\n  async function startDuel() {\n    stopStream();\n    setLeftText(\"\");\n    setRightText(\"\");\n    setSummary(null);\n    setStreaming(true);\n    const url = `/api/duel?left=${encodeURIComponent(leftModel)}&right=${encodeURIComponent(rightModel)}&prompt=${encodeURIComponent(prompt)}&temperature=${temperature}&top_p=${topP}&max_tokens=${maxTokens}`;\n    const es = new EventSource(url);\n    esRef.current = es;\n\n    let lastAt = Date.now();\n    const inactivityMs = 70000;\n    const timer = setInterval(() => {\n      if (!esRef.current) return;\n      if (Date.now() - lastAt > inactivityMs) { console.warn(\"SSE inactivity timeout\"); stopStream(); }\n    }, 5000);\n\n    es.addEventListener(\"chunk\", (e: MessageEvent) => {\n      try {\n        const { side, delta } = JSON.parse(e.data);\n        lastAt = Date.now();\n        if (side === \"left\") setLeftText(prev => prev + delta);\n        else if (side === \"right\") setRightText(prev => prev + delta);\n      } catch {}\n    });\n\n    es.addEventListener(\"error\", (e) => {\n      console.error(\"SSE error\", e);\n      clearInterval(timer);\n      stopStream();\n    });\n\n    es.addEventListener(\"done\", (e: MessageEvent) => {\n      try { setSummary(JSON.parse(e.data)); } catch {}\n      clearInterval(timer);\n      stopStream();\n    });\n  }\n\n  function vote(outcome: \"LEFT\" | \"RIGHT\" | \"TIE\" | \"BOTH_BAD\") {\n    if (!summary) return;\n    const duelSummary = {\n      promptHash: summary.promptHash,\n      leftModel,\n      rightModel,\n      left: {\n        ttfbMs: summary.left?.ttfbMs ?? null,\n        totalMs: summary.left?.totalMs ?? null,\n        completionTokens: summary.left?.usage?.completion_tokens,\n        promptTokens: summary.left?.usage?.prompt_tokens,\n      },\n      right: {\n        ttfbMs: summary.right?.ttfbMs ?? null,\n        totalMs: summary.right?.totalMs ?? null,\n        completionTokens: summary.right?.usage?.completion_tokens,\n        promptTokens: summary.right?.usage?.prompt_tokens,\n      },\n    };\n    record(outcome, leftModel, rightModel, duelSummary);\n    setMasked(false);\n  }\n\n  const leftRating = ratings[leftModel] ?? 1500;\n  const rightRating = ratings[rightModel] ?? 1500;\n\n  return (\n    <main className=\"mx-auto max-w-5xl p-6 space-y-4\">\n      <h1 className=\"text-2xl font-semibold\">Duel Arena</h1>\n      <div className=\"grid grid-cols-1 md:grid-cols-2 gap-4\">\n        <div>\n          <label className=\"block text-sm\">Left model</label>\n          <select value={leftModel} onChange={e => setLeftModel(e.target.value)} className=\"w-full border rounded p-2\">\n            {models.map(m => <option key={m} value={m}>{m}</option>)}\n          </select>\n        </div>\n        <div>\n          <label className=\"block text-sm\">Right model</label>\n          <select value={rightModel} onChange={e => setRightModel(e.target.value)} className=\"w-full border rounded p-2\">\n            {models.map(m => <option key={m} value={m}>{m}</option>)}\n          </select>\n        </div>\n      </div>\n\n      <div>\n        <label className=\"block text-sm\">Prompt</label>\n        <textarea value={prompt} onChange={e => setPrompt(e.target.value)} className=\"w-full border rounded p-2 h-28\" />\n      </div>\n\n      <div className=\"grid grid-cols-3 gap-3\">\n        <div>\n          <label className=\"block text-xs\">temperature</label>\n          <input type=\"number\" step={0.1} min={0} max={1} value={temperature} onChange={e => setTemperature(Number(e.target.value))} className=\"w-full border rounded p-2\" />\n        </div>\n        <div>\n          <label className=\"block text-xs\">top_p</label>\n          <input type=\"number\" step={0.1} min={0} max={1} value={topP} onChange={e => setTopP(Number(e.target.value))} className=\"w-full border rounded p-2\" />\n        </div>\n        <div>\n          <label className=\"block text-xs\">max_tokens</label>\n          <input type=\"number\" step={1} min={32} max={2048} value={maxTokens} onChange={e => setMaxTokens(Number(e.target.value))} className=\"w-full border rounded p-2\" />\n        </div>\n      </div>\n\n      <div className=\"flex items-center gap-3\">\n        <button onClick={startDuel} disabled={streaming} className=\"rounded px-4 py-2 bg-black text-white\">{streaming ? \"Streaming...\" : \"Start duel\"}</button>\n        <button onClick={() => setMasked(v => !v)} className=\"rounded px-3 py-2 border\">{masked ? \"Reveal after vote\" : \"Mask names\"}</button>\n        <div className=\"text-sm text-gray-600\">Ratings • {leftModel}: {leftRating} | {rightModel}: {rightRating}</div>\n      </div>\n\n      <div className=\"grid grid-cols-1 md:grid-cols-2 gap-4\">\n        <Pane title={maskedTitles.left} text={leftText} />\n        <Pane title={maskedTitles.right} text={rightText} />\n      </div>\n\n      <div className=\"flex gap-2\">\n        <button onClick={() => vote(\"LEFT\")} disabled={!summary} className=\"rounded px-3 py-2 border\">Left wins</button>\n        <button onClick={() => vote(\"RIGHT\")} disabled={!summary} className=\"rounded px-3 py-2 border\">Right wins</button>\n        <button onClick={() => vote(\"TIE\")} disabled={!summary} className=\"rounded px-3 py-2 border\">Tie</button>\n        <button onClick={() => vote(\"BOTH_BAD\")} disabled={!summary} className=\"rounded px-3 py-2 border\">Both bad</button>\n      </div>\n\n      {summary && (\n        <div className=\"rounded border p-3 text-sm\">\n          <div className=\"font-medium mb-1\">Telemetry</div>\n          <pre className=\"whitespace-pre-wrap\">{JSON.stringify(summary, null, 2)}</pre>\n          <div className=\"text-xs text-gray-600\">Prompt hash: {summary.promptHash}</div>\n        </div>\n      )}\n    </main>\n  );\n}\n```\n"
    },
    {
      "cell_type": "markdown",
      "metadata": {},
      "source": "# 3. Ranking math, leaderboard, and history\n\nWire votes into ratings and render a leaderboard.\n"
    },
    {
      "cell_type": "markdown",
      "metadata": {},
      "source": "**Checkpoint 3**\n- After 3+ duels, open `/leaderboard`\n- Ratings and win rates should reflect votes"
    },
    {
      "cell_type": "markdown",
      "metadata": {},
      "source": "### lib/metrics.ts\n```ts\nimport { Outcome, recomputeElo } from \"./elo\";\n\nexport type Pair = { left: string; right: string; outcome: Outcome };\n\nexport function toPairs(history: { summary: any; outcome: Outcome }[]): Pair[] {\n  return history.map(h => ({ left: h.summary.leftModel, right: h.summary.rightModel, outcome: h.outcome }));\n}\n\nexport function counts(history: { summary: any; outcome: Outcome }[]) {\n  const played: Record<string, number> = {};\n  const wins: Record<string, number> = {};\n  const ties: Record<string, number> = {};\n  const losses: Record<string, number> = {};\n  for (const h of history) {\n    const L = h.summary.leftModel; const R = h.summary.rightModel;\n    played[L] = (played[L] || 0) + 1; played[R] = (played[R] || 0) + 1;\n    if (h.outcome === \"LEFT\") { wins[L] = (wins[L] || 0) + 1; losses[R] = (losses[R] || 0) + 1; }\n    else if (h.outcome === \"RIGHT\") { wins[R] = (wins[R] || 0) + 1; losses[L] = (losses[L] || 0) + 1; }\n    else if (h.outcome === \"TIE\") { ties[L] = (ties[L] || 0) + 1; ties[R] = (ties[R] || 0) + 1; }\n  }\n  const winRate: Record<string, number> = {};\n  Object.keys(played).forEach(m => {\n    const w = wins[m] || 0, t = ties[m] || 0, p = played[m] || 1;\n    winRate[m] = (w + 0.5 * t) / p;\n  });\n  return { played, wins, losses, ties, winRate };\n}\n\nexport function bootstrapEloCI(history: { summary: any; outcome: Outcome }[], models: string[], B = 200, K = 24) {\n  if (history.length === 0) return Object.fromEntries(models.map(m => [m, { lo: NaN, hi: NaN }])) as Record<string, { lo: number; hi: number }>;\n  const pairs = toPairs(history);\n  const results: Record<string, number[]> = Object.fromEntries(models.map(m => [m, [] as number[]]));\n  for (let b = 0; b < B; b++) {\n    const sample: typeof pairs = [];\n    for (let i = 0; i < pairs.length; i++) sample.push(pairs[Math.floor(Math.random() * pairs.length)]);\n    const r = recomputeElo(sample, {}, K);\n    models.forEach(m => results[m].push(r[m] ?? 1500));\n  }\n  const ci: Record<string, { lo: number; hi: number }> = {};\n  for (const m of models) {\n    const arr = results[m].sort((a, b) => a - b);\n    const lo = arr[Math.floor(0.16 * arr.length)] ?? NaN;\n    const hi = arr[Math.floor(0.84 * arr.length)] ?? NaN;\n    ci[m] = { lo: Math.round(lo), hi: Math.round(hi) };\n  }\n  return ci;\n}\n```\n"
    },
    {
      "cell_type": "markdown",
      "metadata": {},
      "source": "### app/leaderboard/page.tsx\n```tsx\n\"use client\";\nimport { useMemo, useState } from \"react\";\nimport { useRatings } from \"@/lib/store\";\nimport { counts, bootstrapEloCI } from \"@/lib/metrics\";\n\nexport default function LeaderboardPage() {\n  const ratings = useRatings(s => s.ratings);\n  const history = useRatings(s => s.history);\n  const reset = useRatings(s => s.reset);\n\n  const models = useMemo(() => Object.keys(ratings).sort(), [ratings]);\n  const stats = useMemo(() => counts(history), [history]);\n\n  const rows = useMemo(() => {\n    return Object.entries(ratings)\n      .map(([model, rating]) => ({ model, rating, played: stats.played[model] || 0, winRate: stats.winRate[model] || 0 }))\n      .sort((a, b) => b.rating - a.rating);\n  }, [ratings, stats]);\n\n  const [ci, setCI] = useState<Record<string, { lo: number; hi: number }> | null>(null);\n  function computeCI() { setCI(bootstrapEloCI(history, models, 200, 24)); }\n\n  return (\n    <main className=\"mx-auto max-w-4xl p-6 space-y-4\">\n      <h1 className=\"text-2xl font-semibold\">Leaderboard</h1>\n      <div className=\"flex gap-2 items-center\">\n        <button onClick={computeCI} className=\"rounded px-3 py-2 border\">Compute CI</button>\n        <button onClick={reset} className=\"rounded px-3 py-2 border\">Reset</button>\n      </div>\n      <table className=\"w-full text-sm border-collapse\">\n        <thead><tr className=\"text-left border-b\"><th>Rank</th><th>Model</th><th>Rating</th><th>68% CI</th><th>Played</th><th>Win rate</th></tr></thead>\n        <tbody>\n          {rows.map((r, idx) => (\n            <tr key={r.model} className=\"border-b\">\n              <td className=\"py-2\">{idx + 1}</td>\n              <td className=\"py-2\">{r.model}</td>\n              <td className=\"py-2\">{r.rating}</td>\n              <td className=\"py-2\">{ci ? `${ci[r.model]?.lo ?? \"?\"}–${ci[r.model]?.hi ?? \"?\"}` : \"-\"}</td>\n              <td className=\"py-2\">{r.played}</td>\n              <td className=\"py-2\">{(r.winRate * 100).toFixed(1)}%</td>\n            </tr>\n          ))}\n        </tbody>\n      </table>\n    </main>\n  );\n}\n```\n"
    },
    {
      "cell_type": "markdown",
      "metadata": {},
      "source": "# 4. Telemetry capture and normalization\n\nRecord TTFB, total latency, token usage, tokens per second, and ms per 1k completion tokens. Store prompt hashes only.\n"
    },
    {
      "cell_type": "markdown",
      "metadata": {},
      "source": "### lib/telemetry.ts (client)\n```ts\n\"use client\";\nimport { create } from \"zustand\";\nimport { persist } from \"zustand/middleware\";\n\nexport type SideTelem = {\n  model: string;\n  ttfbMs: number | null;\n  totalMs: number | null;\n  promptTokens?: number;\n  completionTokens?: number;\n  error?: string;\n  refusal?: boolean;\n  tps?: number | null;\n  msPer1k?: number | null;\n};\n\nexport type TelemetryRecord = {\n  promptHash: string;\n  params: { temperature: number; top_p: number; max_tokens: number };\n  left: SideTelem;\n  right: SideTelem;\n  at: string;\n};\n\ntype TelemetryState = {\n  records: TelemetryRecord[];\n  add: (rec: TelemetryRecord) => void;\n  reset: () => void;\n};\n\nfunction enrich(side: Omit<SideTelem, \"tps\" | \"msPer1k\">): SideTelem {\n  const total = side.totalMs ?? null;\n  const ctok = side.completionTokens ?? 0;\n  const tps = total && ctok > 0 ? ctok / (total / 1000) : null;\n  const msPer1k = total && ctok > 0 ? total / (ctok / 1000) : null;\n  return { ...side, tps, msPer1k };\n}\n\nexport const useTelemetry = create<TelemetryState>()(\n  persist(\n    (set, get) => ({\n      records: [],\n      add(rec) {\n        const left = enrich(rec.left);\n        const right = enrich(rec.right);\n        set({ records: [{ ...rec, left, right }, ...get().records].slice(0, 500) });\n      },\n      reset() { set({ records: [] }); },\n    }),\n    { name: \"alain-telemetry-store\" }\n  )\n);\n```\n"
    },
    {
      "cell_type": "markdown",
      "metadata": {},
      "source": "### Quick check: Elo numeric example (Python)\nRun this to verify the Elo math locally.\n"
    },
    {
      "cell_type": "code",
      "metadata": {},
      "execution_count": null,
      "outputs": [],
      "source": "def expected_score(ra, rb):\n    import math\n    return 1 / (1 + 10 ** ((rb - ra) / 400))\n\ndef update_elo(ra, rb, outcome, K=24):\n    # outcome: 'LEFT','RIGHT','TIE'\n    if outcome == 'BOTH_BAD':\n        return ra, rb\n    ea = expected_score(ra, rb)\n    sa = 1 if outcome=='LEFT' else 0 if outcome=='RIGHT' else 0.5\n    sb = 1 - sa\n    na = ra + K * (sa - ea)\n    nb = rb + K * (sb - (1 - ea))\n    return round(na), round(nb)\n\nprint('Ea(1500,1500)=', expected_score(1500,1500))\nprint('Left win ->', update_elo(1500,1500,'LEFT',24))\nprint('Tie ->', update_elo(1500,1500,'TIE',24))"
    },
    {
      "cell_type": "markdown",
      "metadata": {},
      "source": "### Synthetic SSE parsing demo (Python)\nThis cell simulates SSE chunks and shows how a tolerant parser collects `chunk` events and detects a final `done` message.\n"
    },
    {
      "cell_type": "code",
      "metadata": {},
      "execution_count": null,
      "outputs": [],
      "source": "import io, time, json\n\ndef simulate_sse():\n    stream = io.StringIO()\n    msgs = [\n        ('chunk', {'side':'left','delta':'Hello '}),\n        ('chunk', {'side':'right','delta':'Hola '}),\n        ('chunk', {'side':'left','delta':'world'}),\n        ('done', {'summary': {'left':{'ttfbMs': 120, 'totalMs': 900}, 'right':{'ttfbMs':130,'totalMs':950}}}),\n    ]\n    for name, data in msgs:\n        stream.write(f\"event: {name}\\n\")\n        stream.write(\"data: \" + json.dumps(data) + \"\\n\\n\")\n    return stream.getvalue()\n\nsse_text = simulate_sse()\n# Parse\nchunks = []\nsummary = None\nfor block in sse_text.strip().split(\"\\n\\n\"):\n    lines = block.split(\"\\n\")\n    ev = None; data = None\n    for ln in lines:\n        if ln.startswith(\"event:\"): ev = ln.split(\":\",1)[1].strip()\n        if ln.startswith(\"data:\"): data = json.loads(ln.split(\":\",1)[1].strip())\n    if ev == 'chunk': chunks.append(data)\n    if ev == 'done': summary = data['summary']\n\nprint('Collected chunks:', chunks)\nprint('Summary:', summary)"
    },
    {
      "cell_type": "markdown",
      "metadata": {},
      "source": "# 5. Safety, fairness, and teacher auto-judge\n\n- Add `/api/moderate` for simple local checks and optional teacher classification\n- Mask identities until vote and reveal after\n- Optional `/api/judge` uses the teacher to output a rubric and verdict JSON\n"
    },
    {
      "cell_type": "markdown",
      "metadata": {},
      "source": "# 6. Packaging, rate limits, tests, and assessments\n\n- Add Tailwind, path aliases, and `.gitignore` entries\n- Add leaky bucket and exponential backoff in `lib/ratelimit.ts`\n- Provide POST NDJSON streaming variant for long prompts\n- Add Vitest tests for Elo and model guard\n- Add `/learn` page with MCQs\n"
    },
    {
      "cell_type": "markdown",
      "metadata": {},
      "source": "# 7. Publishing, legal, probes, and troubleshooting\n\n- `/api/probe` runs sequential small streams to measure TTFB and totals per model\n- `/admin` page runs probes and shows results\n- `/legal` page publishes attribution and disclosures\n- `lib/errors.ts` normalizes common upstream failures\n"
    },
    {
      "cell_type": "markdown",
      "metadata": {},
      "source": "## QA summary and commands\n- `npm run typecheck` should pass\n- `npm run lint` should pass\n- `npm run test` should pass Elo and model guard tests\n- Manual checks:\n  1. GET EventSource duel on `/arena`\n  2. Ratings update on vote\n  3. `/leaderboard` renders, CI computes\n  4. `/telemetry` shows non null averages\n  5. `/admin` probe runs and returns usage where available\n  6. `/legal` visible\n\n**Fairness checklist**: parameter parity, identity masking, prompt hashing, refusal tracking, normalization per 1k.\n"
    }
  ]
}